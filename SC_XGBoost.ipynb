{
  "nbformat": 4,
  "nbformat_minor": 0,
  "metadata": {
    "colab": {
      "provenance": [],
      "gpuType": "T4"
    },
    "kernelspec": {
      "name": "python3",
      "display_name": "Python 3"
    },
    "language_info": {
      "name": "python"
    },
    "accelerator": "GPU"
  },
  "cells": [
    {
      "cell_type": "code",
      "execution_count": null,
      "metadata": {
        "colab": {
          "base_uri": "https://localhost:8080/"
        },
        "collapsed": true,
        "id": "5ePn7cgMfK6J",
        "outputId": "1aa3c7b5-abe1-4018-edd2-6820829c8ce1"
      },
      "outputs": [
        {
          "output_type": "stream",
          "name": "stdout",
          "text": [
            "Requirement already satisfied: numpy in /usr/local/lib/python3.11/dist-packages (2.0.2)\n",
            "Collecting anndata\n",
            "  Downloading anndata-0.11.3-py3-none-any.whl.metadata (8.2 kB)\n",
            "Collecting igraph\n",
            "  Downloading igraph-0.11.8-cp39-abi3-manylinux_2_17_x86_64.manylinux2014_x86_64.whl.metadata (3.8 kB)\n",
            "Collecting leidenalg\n",
            "  Downloading leidenalg-0.10.2-cp38-abi3-manylinux_2_17_x86_64.manylinux2014_x86_64.whl.metadata (10 kB)\n",
            "Requirement already satisfied: umap-learn in /usr/local/lib/python3.11/dist-packages (0.5.7)\n",
            "Collecting muon\n",
            "  Downloading muon-0.1.7-py3-none-any.whl.metadata (7.2 kB)\n",
            "Requirement already satisfied: plotnine in /usr/local/lib/python3.11/dist-packages (0.14.5)\n",
            "Collecting harmonypy\n",
            "  Downloading harmonypy-0.0.10-py3-none-any.whl.metadata (3.9 kB)\n",
            "Collecting pydeseq2\n",
            "  Downloading pydeseq2-0.5.0-py3-none-any.whl.metadata (7.3 kB)\n",
            "Collecting pymemesuite\n",
            "  Downloading pymemesuite-0.1.0a3-cp311-cp311-manylinux_2_17_x86_64.manylinux2014_x86_64.whl.metadata (9.4 kB)\n",
            "Collecting pyjaspar\n",
            "  Downloading pyjaspar-3.0.0.tar.gz (51.0 MB)\n",
            "\u001b[2K     \u001b[90m━━━━━━━━━━━━━━━━━━━━━━━━━━━━━━━━━━━━━━━━\u001b[0m \u001b[32m51.0/51.0 MB\u001b[0m \u001b[31m9.5 MB/s\u001b[0m eta \u001b[36m0:00:00\u001b[0m\n",
            "\u001b[?25h  Preparing metadata (setup.py) ... \u001b[?25l\u001b[?25hdone\n",
            "Collecting pyupset\n",
            "  Downloading PyUpSet-0.1.1.post7.tar.gz (52 kB)\n",
            "\u001b[2K     \u001b[90m━━━━━━━━━━━━━━━━━━━━━━━━━━━━━━━━━━━━━━━━\u001b[0m \u001b[32m52.5/52.5 kB\u001b[0m \u001b[31m3.5 MB/s\u001b[0m eta \u001b[36m0:00:00\u001b[0m\n",
            "\u001b[?25h  Preparing metadata (setup.py) ... \u001b[?25l\u001b[?25hdone\n",
            "Collecting gprofiler-official\n",
            "  Downloading gprofiler_official-1.0.0-py3-none-any.whl.metadata (11 kB)\n",
            "Requirement already satisfied: psutil in /usr/local/lib/python3.11/dist-packages (5.9.5)\n",
            "Requirement already satisfied: pynvml in /usr/local/lib/python3.11/dist-packages (12.0.0)\n",
            "Requirement already satisfied: imbalanced-learn in /usr/local/lib/python3.11/dist-packages (0.13.0)\n",
            "Collecting scanpy[skmisc]\n",
            "  Downloading scanpy-1.11.0-py3-none-any.whl.metadata (9.5 kB)\n",
            "Collecting array-api-compat!=1.5,>1.4 (from anndata)\n",
            "  Downloading array_api_compat-1.11.1-py3-none-any.whl.metadata (1.8 kB)\n",
            "Requirement already satisfied: h5py>=3.7 in /usr/local/lib/python3.11/dist-packages (from anndata) (3.12.1)\n",
            "Requirement already satisfied: natsort in /usr/local/lib/python3.11/dist-packages (from anndata) (8.4.0)\n",
            "Requirement already satisfied: packaging>=20.0 in /usr/local/lib/python3.11/dist-packages (from anndata) (24.2)\n",
            "Requirement already satisfied: pandas!=2.1.0rc0,!=2.1.2,>=1.4 in /usr/local/lib/python3.11/dist-packages (from anndata) (2.2.2)\n",
            "Requirement already satisfied: scipy>1.8 in /usr/local/lib/python3.11/dist-packages (from anndata) (1.14.1)\n",
            "Requirement already satisfied: joblib in /usr/local/lib/python3.11/dist-packages (from scanpy[skmisc]) (1.4.2)\n",
            "Collecting legacy-api-wrap>=1.4 (from scanpy[skmisc])\n",
            "  Downloading legacy_api_wrap-1.4.1-py3-none-any.whl.metadata (2.1 kB)\n",
            "Requirement already satisfied: matplotlib>=3.6 in /usr/local/lib/python3.11/dist-packages (from scanpy[skmisc]) (3.10.0)\n",
            "Requirement already satisfied: networkx>=2.7 in /usr/local/lib/python3.11/dist-packages (from scanpy[skmisc]) (3.4.2)\n",
            "Requirement already satisfied: numba>=0.57 in /usr/local/lib/python3.11/dist-packages (from scanpy[skmisc]) (0.60.0)\n",
            "Requirement already satisfied: patsy!=1.0.0 in /usr/local/lib/python3.11/dist-packages (from scanpy[skmisc]) (1.0.1)\n",
            "Requirement already satisfied: pynndescent>=0.5 in /usr/local/lib/python3.11/dist-packages (from scanpy[skmisc]) (0.5.13)\n",
            "Collecting scikit-learn<1.6.0,>=1.1 (from scanpy[skmisc])\n",
            "  Downloading scikit_learn-1.5.2-cp311-cp311-manylinux_2_17_x86_64.manylinux2014_x86_64.whl.metadata (13 kB)\n",
            "Requirement already satisfied: seaborn>=0.13 in /usr/local/lib/python3.11/dist-packages (from scanpy[skmisc]) (0.13.2)\n",
            "Collecting session-info2 (from scanpy[skmisc])\n",
            "  Downloading session_info2-0.1.2-py3-none-any.whl.metadata (2.5 kB)\n",
            "Requirement already satisfied: statsmodels>=0.13 in /usr/local/lib/python3.11/dist-packages (from scanpy[skmisc]) (0.14.4)\n",
            "Requirement already satisfied: tqdm in /usr/local/lib/python3.11/dist-packages (from scanpy[skmisc]) (4.67.1)\n",
            "Requirement already satisfied: typing-extensions in /usr/local/lib/python3.11/dist-packages (from scanpy[skmisc]) (4.12.2)\n",
            "Collecting scikit-misc>=0.1.3 (from scanpy[skmisc])\n",
            "  Downloading scikit_misc-0.5.1-cp311-cp311-manylinux_2_17_x86_64.manylinux2014_x86_64.whl.metadata (5.0 kB)\n",
            "Collecting texttable>=1.6.2 (from igraph)\n",
            "  Downloading texttable-1.7.0-py2.py3-none-any.whl.metadata (9.8 kB)\n",
            "Requirement already satisfied: protobuf in /usr/local/lib/python3.11/dist-packages (from muon) (4.25.6)\n",
            "Collecting mudata (from muon)\n",
            "  Downloading mudata-0.3.1-py3-none-any.whl.metadata (8.3 kB)\n",
            "Requirement already satisfied: mizani~=0.13.0 in /usr/local/lib/python3.11/dist-packages (from plotnine) (0.13.1)\n",
            "Collecting formulaic>=1.0.2 (from pydeseq2)\n",
            "  Downloading formulaic-1.1.1-py3-none-any.whl.metadata (6.9 kB)\n",
            "Collecting formulaic-contrasts>=0.2.0 (from pydeseq2)\n",
            "  Downloading formulaic_contrasts-1.0.0-py3-none-any.whl.metadata (6.5 kB)\n",
            "Requirement already satisfied: wheel in /usr/local/lib/python3.11/dist-packages (from pyjaspar) (0.45.1)\n",
            "Collecting biopython (from pyjaspar)\n",
            "  Downloading biopython-1.85-cp311-cp311-manylinux_2_17_x86_64.manylinux2014_x86_64.whl.metadata (13 kB)\n",
            "Requirement already satisfied: requests in /usr/local/lib/python3.11/dist-packages (from gprofiler-official) (2.32.3)\n",
            "Requirement already satisfied: nvidia-ml-py<13.0.0a0,>=12.0.0 in /usr/local/lib/python3.11/dist-packages (from pynvml) (12.570.86)\n",
            "Requirement already satisfied: sklearn-compat<1,>=0.1 in /usr/local/lib/python3.11/dist-packages (from imbalanced-learn) (0.1.3)\n",
            "Requirement already satisfied: threadpoolctl<4,>=2.0.0 in /usr/local/lib/python3.11/dist-packages (from imbalanced-learn) (3.6.0)\n",
            "Collecting interface-meta>=1.2.0 (from formulaic>=1.0.2->pydeseq2)\n",
            "  Downloading interface_meta-1.3.0-py3-none-any.whl.metadata (6.7 kB)\n",
            "Requirement already satisfied: wrapt>=1.0 in /usr/local/lib/python3.11/dist-packages (from formulaic>=1.0.2->pydeseq2) (1.17.2)\n",
            "Collecting session-info (from formulaic-contrasts>=0.2.0->pydeseq2)\n",
            "  Downloading session_info-1.0.0.tar.gz (24 kB)\n",
            "  Preparing metadata (setup.py) ... \u001b[?25l\u001b[?25hdone\n",
            "Requirement already satisfied: contourpy>=1.0.1 in /usr/local/lib/python3.11/dist-packages (from matplotlib>=3.6->scanpy[skmisc]) (1.3.1)\n",
            "Requirement already satisfied: cycler>=0.10 in /usr/local/lib/python3.11/dist-packages (from matplotlib>=3.6->scanpy[skmisc]) (0.12.1)\n",
            "Requirement already satisfied: fonttools>=4.22.0 in /usr/local/lib/python3.11/dist-packages (from matplotlib>=3.6->scanpy[skmisc]) (4.56.0)\n",
            "Requirement already satisfied: kiwisolver>=1.3.1 in /usr/local/lib/python3.11/dist-packages (from matplotlib>=3.6->scanpy[skmisc]) (1.4.8)\n",
            "Requirement already satisfied: pillow>=8 in /usr/local/lib/python3.11/dist-packages (from matplotlib>=3.6->scanpy[skmisc]) (11.1.0)\n",
            "Requirement already satisfied: pyparsing>=2.3.1 in /usr/local/lib/python3.11/dist-packages (from matplotlib>=3.6->scanpy[skmisc]) (3.2.1)\n",
            "Requirement already satisfied: python-dateutil>=2.7 in /usr/local/lib/python3.11/dist-packages (from matplotlib>=3.6->scanpy[skmisc]) (2.8.2)\n",
            "Requirement already satisfied: llvmlite<0.44,>=0.43.0dev0 in /usr/local/lib/python3.11/dist-packages (from numba>=0.57->scanpy[skmisc]) (0.43.0)\n",
            "Requirement already satisfied: pytz>=2020.1 in /usr/local/lib/python3.11/dist-packages (from pandas!=2.1.0rc0,!=2.1.2,>=1.4->anndata) (2025.1)\n",
            "Requirement already satisfied: tzdata>=2022.7 in /usr/local/lib/python3.11/dist-packages (from pandas!=2.1.0rc0,!=2.1.2,>=1.4->anndata) (2025.1)\n",
            "Requirement already satisfied: charset-normalizer<4,>=2 in /usr/local/lib/python3.11/dist-packages (from requests->gprofiler-official) (3.4.1)\n",
            "Requirement already satisfied: idna<4,>=2.5 in /usr/local/lib/python3.11/dist-packages (from requests->gprofiler-official) (3.10)\n",
            "Requirement already satisfied: urllib3<3,>=1.21.1 in /usr/local/lib/python3.11/dist-packages (from requests->gprofiler-official) (2.3.0)\n",
            "Requirement already satisfied: certifi>=2017.4.17 in /usr/local/lib/python3.11/dist-packages (from requests->gprofiler-official) (2025.1.31)\n",
            "Requirement already satisfied: six>=1.5 in /usr/local/lib/python3.11/dist-packages (from python-dateutil>=2.7->matplotlib>=3.6->scanpy[skmisc]) (1.17.0)\n",
            "Collecting stdlib_list (from session-info->formulaic-contrasts>=0.2.0->pydeseq2)\n",
            "  Downloading stdlib_list-0.11.1-py3-none-any.whl.metadata (3.3 kB)\n",
            "Downloading anndata-0.11.3-py3-none-any.whl (142 kB)\n",
            "\u001b[2K   \u001b[90m━━━━━━━━━━━━━━━━━━━━━━━━━━━━━━━━━━━━━━━━\u001b[0m \u001b[32m142.7/142.7 kB\u001b[0m \u001b[31m6.9 MB/s\u001b[0m eta \u001b[36m0:00:00\u001b[0m\n",
            "\u001b[?25hDownloading igraph-0.11.8-cp39-abi3-manylinux_2_17_x86_64.manylinux2014_x86_64.whl (3.1 MB)\n",
            "\u001b[2K   \u001b[90m━━━━━━━━━━━━━━━━━━━━━━━━━━━━━━━━━━━━━━━━\u001b[0m \u001b[32m3.1/3.1 MB\u001b[0m \u001b[31m29.0 MB/s\u001b[0m eta \u001b[36m0:00:00\u001b[0m\n",
            "\u001b[?25hDownloading leidenalg-0.10.2-cp38-abi3-manylinux_2_17_x86_64.manylinux2014_x86_64.whl (2.0 MB)\n",
            "\u001b[2K   \u001b[90m━━━━━━━━━━━━━━━━━━━━━━━━━━━━━━━━━━━━━━━━\u001b[0m \u001b[32m2.0/2.0 MB\u001b[0m \u001b[31m27.0 MB/s\u001b[0m eta \u001b[36m0:00:00\u001b[0m\n",
            "\u001b[?25hDownloading muon-0.1.7-py3-none-any.whl (293 kB)\n",
            "\u001b[2K   \u001b[90m━━━━━━━━━━━━━━━━━━━━━━━━━━━━━━━━━━━━━━━━\u001b[0m \u001b[32m293.7/293.7 kB\u001b[0m \u001b[31m13.2 MB/s\u001b[0m eta \u001b[36m0:00:00\u001b[0m\n",
            "\u001b[?25hDownloading harmonypy-0.0.10-py3-none-any.whl (20 kB)\n",
            "Downloading pydeseq2-0.5.0-py3-none-any.whl (46 kB)\n",
            "\u001b[2K   \u001b[90m━━━━━━━━━━━━━━━━━━━━━━━━━━━━━━━━━━━━━━━━\u001b[0m \u001b[32m46.7/46.7 kB\u001b[0m \u001b[31m3.0 MB/s\u001b[0m eta \u001b[36m0:00:00\u001b[0m\n",
            "\u001b[?25hDownloading pymemesuite-0.1.0a3-cp311-cp311-manylinux_2_17_x86_64.manylinux2014_x86_64.whl (10.5 MB)\n",
            "\u001b[2K   \u001b[90m━━━━━━━━━━━━━━━━━━━━━━━━━━━━━━━━━━━━━━━━\u001b[0m \u001b[32m10.5/10.5 MB\u001b[0m \u001b[31m27.7 MB/s\u001b[0m eta \u001b[36m0:00:00\u001b[0m\n",
            "\u001b[?25hDownloading gprofiler_official-1.0.0-py3-none-any.whl (9.3 kB)\n",
            "Downloading array_api_compat-1.11.1-py3-none-any.whl (53 kB)\n",
            "\u001b[2K   \u001b[90m━━━━━━━━━━━━━━━━━━━━━━━━━━━━━━━━━━━━━━━━\u001b[0m \u001b[32m53.1/53.1 kB\u001b[0m \u001b[31m3.9 MB/s\u001b[0m eta \u001b[36m0:00:00\u001b[0m\n",
            "\u001b[?25hDownloading formulaic-1.1.1-py3-none-any.whl (115 kB)\n",
            "\u001b[2K   \u001b[90m━━━━━━━━━━━━━━━━━━━━━━━━━━━━━━━━━━━━━━━━\u001b[0m \u001b[32m115.7/115.7 kB\u001b[0m \u001b[31m8.1 MB/s\u001b[0m eta \u001b[36m0:00:00\u001b[0m\n",
            "\u001b[?25hDownloading formulaic_contrasts-1.0.0-py3-none-any.whl (10 kB)\n",
            "Downloading legacy_api_wrap-1.4.1-py3-none-any.whl (10.0 kB)\n",
            "Downloading scikit_learn-1.5.2-cp311-cp311-manylinux_2_17_x86_64.manylinux2014_x86_64.whl (13.3 MB)\n",
            "\u001b[2K   \u001b[90m━━━━━━━━━━━━━━━━━━━━━━━━━━━━━━━━━━━━━━━━\u001b[0m \u001b[32m13.3/13.3 MB\u001b[0m \u001b[31m27.6 MB/s\u001b[0m eta \u001b[36m0:00:00\u001b[0m\n",
            "\u001b[?25hDownloading scikit_misc-0.5.1-cp311-cp311-manylinux_2_17_x86_64.manylinux2014_x86_64.whl (188 kB)\n",
            "\u001b[2K   \u001b[90m━━━━━━━━━━━━━━━━━━━━━━━━━━━━━━━━━━━━━━━━\u001b[0m \u001b[32m189.0/189.0 kB\u001b[0m \u001b[31m8.8 MB/s\u001b[0m eta \u001b[36m0:00:00\u001b[0m\n",
            "\u001b[?25hDownloading texttable-1.7.0-py2.py3-none-any.whl (10 kB)\n",
            "Downloading biopython-1.85-cp311-cp311-manylinux_2_17_x86_64.manylinux2014_x86_64.whl (3.3 MB)\n",
            "\u001b[2K   \u001b[90m━━━━━━━━━━━━━━━━━━━━━━━━━━━━━━━━━━━━━━━━\u001b[0m \u001b[32m3.3/3.3 MB\u001b[0m \u001b[31m27.3 MB/s\u001b[0m eta \u001b[36m0:00:00\u001b[0m\n",
            "\u001b[?25hDownloading mudata-0.3.1-py3-none-any.whl (41 kB)\n",
            "\u001b[2K   \u001b[90m━━━━━━━━━━━━━━━━━━━━━━━━━━━━━━━━━━━━━━━━\u001b[0m \u001b[32m41.0/41.0 kB\u001b[0m \u001b[31m1.8 MB/s\u001b[0m eta \u001b[36m0:00:00\u001b[0m\n",
            "\u001b[?25hDownloading scanpy-1.11.0-py3-none-any.whl (2.1 MB)\n",
            "\u001b[2K   \u001b[90m━━━━━━━━━━━━━━━━━━━━━━━━━━━━━━━━━━━━━━━━\u001b[0m \u001b[32m2.1/2.1 MB\u001b[0m \u001b[31m28.7 MB/s\u001b[0m eta \u001b[36m0:00:00\u001b[0m\n",
            "\u001b[?25hDownloading session_info2-0.1.2-py3-none-any.whl (14 kB)\n",
            "Downloading interface_meta-1.3.0-py3-none-any.whl (14 kB)\n",
            "Downloading stdlib_list-0.11.1-py3-none-any.whl (83 kB)\n",
            "\u001b[2K   \u001b[90m━━━━━━━━━━━━━━━━━━━━━━━━━━━━━━━━━━━━━━━━\u001b[0m \u001b[32m83.6/83.6 kB\u001b[0m \u001b[31m6.4 MB/s\u001b[0m eta \u001b[36m0:00:00\u001b[0m\n",
            "\u001b[?25hBuilding wheels for collected packages: pyjaspar, pyupset, session-info\n",
            "  Building wheel for pyjaspar (setup.py) ... \u001b[?25l\u001b[?25hdone\n",
            "  Created wheel for pyjaspar: filename=pyjaspar-3.0.0-py3-none-any.whl size=51125721 sha256=7ff9fd0b027b76398e6a8cab3166c2776704f61952f62fcf9f33b73a0bb27711\n",
            "  Stored in directory: /root/.cache/pip/wheels/dd/ae/ac/c587c5843ac926a4656619f7276f54b6c7778dcaee1c071673\n",
            "  Building wheel for pyupset (setup.py) ... \u001b[?25l\u001b[?25hdone\n",
            "  Created wheel for pyupset: filename=PyUpSet-0.1.1.post7-py3-none-any.whl size=9317 sha256=b77735f0f6e22c5661295f97e616d693df4b795c48c2c85c5d601be74d738c20\n",
            "  Stored in directory: /root/.cache/pip/wheels/34/f3/b9/ada0d183b7f9b5149cc1406cf7f29a5e32f1fbc37ae5a8e115\n",
            "  Building wheel for session-info (setup.py) ... \u001b[?25l\u001b[?25hdone\n",
            "  Created wheel for session-info: filename=session_info-1.0.0-py3-none-any.whl size=8023 sha256=edb6b65e595e75e9d658d94fa7cfc41f8140737c468d5ac30348039ed30d8e9f\n",
            "  Stored in directory: /root/.cache/pip/wheels/4e/56/35/a748fc57279a4b84d0b332879445fed1ad8478e7257986b015\n",
            "Successfully built pyjaspar pyupset session-info\n",
            "Installing collected packages: texttable, stdlib_list, session-info2, scikit-misc, pymemesuite, legacy-api-wrap, interface-meta, igraph, biopython, array-api-compat, session-info, scikit-learn, pyjaspar, leidenalg, gprofiler-official, pyupset, harmonypy, formulaic, anndata, mudata, formulaic-contrasts, scanpy, pydeseq2, muon\n",
            "  Attempting uninstall: scikit-learn\n",
            "    Found existing installation: scikit-learn 1.6.1\n",
            "    Uninstalling scikit-learn-1.6.1:\n",
            "      Successfully uninstalled scikit-learn-1.6.1\n",
            "Successfully installed anndata-0.11.3 array-api-compat-1.11.1 biopython-1.85 formulaic-1.1.1 formulaic-contrasts-1.0.0 gprofiler-official-1.0.0 harmonypy-0.0.10 igraph-0.11.8 interface-meta-1.3.0 legacy-api-wrap-1.4.1 leidenalg-0.10.2 mudata-0.3.1 muon-0.1.7 pydeseq2-0.5.0 pyjaspar-3.0.0 pymemesuite-0.1.0a3 pyupset-0.1.1.post7 scanpy-1.11.0 scikit-learn-1.5.2 scikit-misc-0.5.1 session-info-1.0.0 session-info2-0.1.2 stdlib_list-0.11.1 texttable-1.7.0\n"
          ]
        }
      ],
      "source": [
        "#Installing Scanpy along with other Single Cell dependencies\n",
        "%pip install numpy anndata scanpy[skmisc] igraph leidenalg umap-learn muon plotnine harmonypy pydeseq2 pymemesuite pyjaspar pyupset gprofiler-official psutil pynvml imbalanced-learn"
      ]
    },
    {
      "cell_type": "code",
      "source": [
        "#Libraries for downloading/manipulating data\n",
        "import os, gc\n",
        "import numpy as np\n",
        "import pandas as pd\n",
        "from tqdm.auto import tqdm\n",
        "from matplotlib.pyplot import rc_context\n",
        "import matplotlib.pyplot as plt\n",
        "\n",
        "# Core scverse libraries\n",
        "import anndata as ad\n",
        "import scanpy as sc\n",
        "\n",
        "import seaborn as sns\n",
        "from scipy.stats import median_abs_deviation\n",
        "\n",
        "#plotting\n",
        "from plotnine import (\n",
        "    ggplot,\n",
        "    aes,\n",
        "    scale_x_log10,\n",
        "    scale_y_log10,\n",
        "    geom_point,\n",
        "    geom_violin,\n",
        "    geom_boxplot,\n",
        "    geom_jitter,\n",
        "    theme_matplotlib,\n",
        "    theme_set,\n",
        ")\n",
        "from gprofiler import GProfiler\n",
        "from pyjaspar import jaspardb\n",
        "import Bio\n",
        "from typing import List\n",
        "\n",
        "from pydeseq2.dds import DeseqDataSet\n",
        "from pydeseq2.default_inference import DefaultInference\n",
        "from pydeseq2.ds import DeseqStats\n",
        "\n",
        "from scipy.sparse import diags\n",
        "\n",
        "# Data retrieval\n",
        "import pooch\n",
        "from muon import atac as ac\n",
        "\n",
        "#Libraries for XGBoost implementation\n",
        "import xgboost as xgb\n",
        "import time\n",
        "from sklearn.model_selection import train_test_split\n",
        "import sklearn.metrics as skm\n",
        "from sklearn.preprocessing import LabelEncoder\n",
        "\n",
        "#RAM-CPU profiling\n",
        "import psutil\n",
        "import threading\n",
        "import pynvml\n",
        "\n",
        "#Undersampling the dataset\n",
        "from imblearn.under_sampling import RandomUnderSampler"
      ],
      "metadata": {
        "id": "igQnoMB6fgGE"
      },
      "execution_count": null,
      "outputs": []
    },
    {
      "cell_type": "markdown",
      "source": [
        "<h2>Part 0: Downloading the dataset and RAM/CPU measuring function</h2>\n",
        "\n"
      ],
      "metadata": {
        "id": "HNOnlAIUiyGE"
      }
    },
    {
      "cell_type": "code",
      "source": [
        "def download_dataset():\n",
        "  \"\"\"\n",
        "  Download and load the single-cell RNA sequencing dataset as an AnnData object.\n",
        "\n",
        "    Here, a dataset is downloaded from a certain URL, consequetively the dataset is loaded into an AnnData object.\n",
        "    Input: !wget -c downloadLink -O sameNameAsFile.h5ad\n",
        "    Returns: adata (AnnData file)\n",
        "  \"\"\"\n",
        "  #!wget -c https://datasets.cellxgene.cziscience.com/f4b594d9-1c81-420d-9cac-d9cb7041c921.h5ad  -O human_gland_50k.h5ad\n",
        "  #adata = ad.read_h5ad(\"human_gland_50k.h5ad\")\n",
        "  !wget -c https://datasets.cellxgene.cziscience.com/29d50da1-430a-482c-ac9a-7077c727aa34.h5ad  -O human_tissue_60k.h5ad\n",
        "  adata = ad.read_h5ad(\"human_tissue_60k.h5ad\")\n",
        "\n",
        "  return adata\n",
        "adata = download_dataset()"
      ],
      "metadata": {
        "id": "m01bjhMRi3E9",
        "colab": {
          "base_uri": "https://localhost:8080/"
        },
        "outputId": "6766db43-151e-410c-cd70-82527d834b87"
      },
      "execution_count": null,
      "outputs": [
        {
          "output_type": "stream",
          "name": "stdout",
          "text": [
            "--2025-03-19 09:37:28--  https://datasets.cellxgene.cziscience.com/29d50da1-430a-482c-ac9a-7077c727aa34.h5ad\n",
            "Resolving datasets.cellxgene.cziscience.com (datasets.cellxgene.cziscience.com)... 13.32.87.99, 13.32.87.125, 13.32.87.40, ...\n",
            "Connecting to datasets.cellxgene.cziscience.com (datasets.cellxgene.cziscience.com)|13.32.87.99|:443... connected.\n",
            "HTTP request sent, awaiting response... 416 Requested Range Not Satisfiable\n",
            "\n",
            "    The file is already fully retrieved; nothing to do.\n",
            "\n"
          ]
        }
      ]
    },
    {
      "cell_type": "code",
      "source": [
        "#RAM-GPU-CPU profiling\n",
        "pynvml.nvmlInit()\n",
        "\n",
        "def GPU_measures():\n",
        "  \"\"\"\n",
        "  Measures the current usage of GPU\n",
        "  Input: None\n",
        "  Output: GPU memory usage in Mb\n",
        "  \"\"\"\n",
        "  handle = pynvml.nvmlDeviceGetHandleByIndex(0) #Selects any GPU available\n",
        "  gpu_usage = pynvml.nvmlDeviceGetUtilizationRates(handle) #Gets the use percentage of the GPU\n",
        "  gpu_perc = gpu_usage.gpu\n",
        "\n",
        "  return gpu_perc\n",
        "\n",
        "training = True #Boolean required for threading the RAM/CPU process\n",
        "ram_usage, cpu_usage, gpu_usage = [],[],[]\n",
        "\n",
        "def RAM_CPU_GPU_measures():\n",
        "  \"\"\"\n",
        "  Measures the current use of RAM and CPU every second and stores them in their respective arrays\n",
        "  Input: None\n",
        "T  Output: RAM, CPU and GPU usage arrays\n",
        "  \"\"\"\n",
        "  while training:\n",
        "    time.sleep(1)\n",
        "    ram_usage.append(psutil.virtual_memory().percent)\n",
        "    cpu_usage.append(psutil.cpu_percent())\n",
        "    gpu_usage.append(GPU_measures())\n"
      ],
      "metadata": {
        "id": "YYfEa7MxsZ4E"
      },
      "execution_count": null,
      "outputs": []
    },
    {
      "cell_type": "markdown",
      "source": [
        "<h2>Part 1: Data preprocessing</h2>"
      ],
      "metadata": {
        "id": "Ji48cpjXiLyy"
      }
    },
    {
      "cell_type": "code",
      "source": [
        "def preprocessing(adata,min_genes,min_cells,max_perc,min_perc,cut_2k):\n",
        "  \"\"\"\n",
        "  Performs a rutinary (low-expressed genes, outlier removal, normalization and log transformation)\n",
        "  pre-processing assay to the input data\n",
        "\n",
        "  Input: AnnData file, minimum of expressing genes, minimum of expressing cells, maximum and minimum quantiles, and\n",
        "  boolean if only the most variable genes are wanted\n",
        "  Output: AnnData file with preprocessed data\n",
        "  \"\"\"\n",
        "  prev_dims = adata.shape\n",
        "  sc.pp.filter_cells(adata, min_genes=min_genes) #Eliminate cells that do not express at least min_genes\n",
        "  sc.pp.filter_genes(adata, min_cells=min_cells) #Delete genes that are not expressed in at least min_cells\n",
        "\n",
        "  #Required for quantile calculations\n",
        "  adata.var[\"mt\"] = adata.var_names.str.startswith(\"MT-\") #Creates an additional column with the variable \"MT\" (to see if the gene is mitochondrial or not upfront)\n",
        "  sc.pp.calculate_qc_metrics(adata, qc_vars=[\"mt\"], log1p=False, inplace=True) #Calculates metrics\n",
        "\n",
        "  #Quantile calculations\n",
        "  up_lim = np.quantile(adata.obs.n_genes_by_counts.values, max_perc)\n",
        "  low_lim = np.quantile(adata.obs.n_genes_by_counts.values,min_perc)\n",
        "  adata = adata[(adata.obs.n_genes_by_counts < up_lim) & (adata.obs.n_genes_by_counts > low_lim)] #Deletes genes outside of the quantile range\n",
        "\n",
        "  #Normalizing and log transforming data\n",
        "  sc.pp.normalize_total(adata, target_sum = 1e4) #1e4: Normalization standard\n",
        "  sc.pp.log1p(adata)\n",
        "\n",
        "  #Taking the n_top_genes most variable genes only\n",
        "  if cut_2k == True:\n",
        "    sc.pp.highly_variable_genes(adata, n_top_genes = 2000)\n",
        "    adata = adata[:,adata.var[\"highly_variable\"]]\n",
        "\n",
        "  new_dims = adata.shape\n",
        "  print(\"Initial dims: {} \\nDims after preprocessing: {}\".format(prev_dims,new_dims))\n",
        "  return adata\n",
        "\n",
        "st = time.time()\n",
        "adata = preprocessing(adata, min_genes = 200, min_cells = 3, max_perc = 0.95, min_perc = 0.05,cut_2k = False)\n",
        "print(\"Preprocessing time: {:.2f} s\".format(time.time()-st))"
      ],
      "metadata": {
        "colab": {
          "base_uri": "https://localhost:8080/"
        },
        "id": "LwVTOsavippP",
        "outputId": "87179dfc-f218-4b12-bd3c-2d70691a43af"
      },
      "execution_count": null,
      "outputs": [
        {
          "output_type": "stream",
          "name": "stderr",
          "text": [
            "/usr/local/lib/python3.11/dist-packages/scanpy/preprocessing/_normalization.py:208: UserWarning: Received a view of an AnnData. Making a copy.\n"
          ]
        },
        {
          "output_type": "stream",
          "name": "stdout",
          "text": [
            "Initial dims: (61525, 36406) \n",
            "Dims after preprocessing: (55369, 32746)\n",
            "Preprocessing time: 19.50 s\n"
          ]
        }
      ]
    },
    {
      "cell_type": "markdown",
      "source": [
        "<h1>Part 1.1: Reducing the dataset using PCs</h1>"
      ],
      "metadata": {
        "id": "kQIRt3MHL3Mi"
      }
    },
    {
      "cell_type": "code",
      "source": [],
      "metadata": {
        "id": "iblpA3iUMgHE"
      },
      "execution_count": null,
      "outputs": []
    },
    {
      "cell_type": "markdown",
      "source": [
        "<h2>Part 2: Gradient boosting using XGBoost</h2>"
      ],
      "metadata": {
        "id": "HyMt4qYIO3uK"
      }
    },
    {
      "cell_type": "code",
      "source": [
        "def dataset_reduction(adata,method):\n",
        "  \"\"\"\n",
        "  Reduces dataset size based on various methods (PCA-based, random undersampling) if wanted.\n",
        "  Also produces training and testing splits on a dataset contained in the input AnnData file.\n",
        "\n",
        "  Input: AnnData file (previously preprocessed) and method {\"pca\",\"undersampling\", \"raw\"}\n",
        "  Output: Original dataset along with reduced training and testing splits from the AnnData file\n",
        "  \"\"\"\n",
        "  #Encoding labels (giving them a number between 0 and n_types-1)\n",
        "  enc = LabelEncoder()\n",
        "  enc.fit(adata.obs[\"cell_type\"])\n",
        "  y = enc.transform(adata.obs[\"cell_type\"])\n",
        "\n",
        "  if method == None: #Raw dataset\n",
        "    X = adata.X\n",
        "\n",
        "  elif method == \"pca\": #Dataset reduced by PCAs\n",
        "    try:\n",
        "      X = adata.obsm[\"X_pca\"]\n",
        "    except:\n",
        "      sc.pp.pca(adata)\n",
        "      print(\"Dataset had no X_pca. Function will run again\")\n",
        "      #dataset_reduction(adata,method)\n",
        "\n",
        "  elif method == \"undersampling\": #Dataset reduced by Random Undersampling\n",
        "    X = adata.X\n",
        "    rus = RandomUnderSampler(sampling_strategy = \"all\", random_state=42)\n",
        "    X, y = rus.fit_resample(X,y)\n",
        "\n",
        "  #Splitting our data into training and testing (80:20 split)\n",
        "  X_train, X_test, y_train, y_test = train_test_split(X,y,test_size = 0.2, random_state = 42)\n",
        "\n",
        "  return X, X_train, X_test, y_train, y_test\n"
      ],
      "metadata": {
        "id": "DG6IxRn7PA6c"
      },
      "execution_count": null,
      "outputs": []
    },
    {
      "cell_type": "code",
      "source": [
        "#XGBoost implementation with time, memory and CPU metrics\n",
        "method = \"undersampling\"\n",
        "X, X_train, X_test, y_train, y_test = dataset_reduction(adata,method = method)\n",
        "st = time.time()\n",
        "\n",
        "clas = xgb.XGBClassifier(objective = \"multi:softmax\", random_state = 42, eval_metric = \"mlogloss\", device = \"cuda\") #cuda enables GPU usage if available\n",
        "threading.Thread(target = RAM_CPU_GPU_measures,daemon=True).start() #RAM/CPU measuring in real time\n",
        "clas.fit(X_train,y_train)\n",
        "\n",
        "training = False\n",
        "print(\"Runtime: {:.3f} s\".format(time.time()-st))"
      ],
      "metadata": {
        "id": "cLPEdxI4Oh1M",
        "colab": {
          "base_uri": "https://localhost:8080/"
        },
        "outputId": "0edc1984-c7f6-48d3-985a-020fbaa9ed40"
      },
      "execution_count": null,
      "outputs": [
        {
          "output_type": "stream",
          "name": "stdout",
          "text": [
            "Runtime: 76.740 s\n"
          ]
        }
      ]
    },
    {
      "cell_type": "markdown",
      "source": [
        "<h2>Part 3: Metrics and performance</h2>"
      ],
      "metadata": {
        "id": "z6vQDSGGa59r"
      }
    },
    {
      "cell_type": "code",
      "source": [
        "#Only for undersampling assay\n",
        "X = adata.X\n",
        "enc = LabelEncoder()\n",
        "enc.fit(adata.obs[\"cell_type\"])\n",
        "y = enc.transform(adata.obs[\"cell_type\"])\n",
        "X_train, X_test, y_train, y_test = train_test_split(X,y,test_size = 0.2, random_state = 42)\n",
        "\n",
        "y_pred = clas.predict(X_test)\n",
        "\n",
        "#Finding the confusion matrix, accuracy score and F1-score\n",
        "import sklearn.metrics as skm\n",
        "#Calculating our metrics\n",
        "conf = skm.confusion_matrix(y_test,y_pred) #Confusion matrix\n",
        "acc = skm.accuracy_score(y_test,y_pred) #Accuracy score\n",
        "f1 = skm.f1_score(y_test,y_pred,average = \"weighted\") #F1-score\n",
        "\n",
        "#print(\"Confusion matrix:\")\n",
        "#print(conf)\n",
        "print(\"accuracy: {:.3f}\".format(acc))\n",
        "print(\"f1-score: {:.3f}\".format(f1))"
      ],
      "metadata": {
        "id": "KTUx2JY7a5u_",
        "colab": {
          "base_uri": "https://localhost:8080/"
        },
        "outputId": "c3e1fba1-74a8-491f-b9d2-da217f206cd5"
      },
      "execution_count": null,
      "outputs": [
        {
          "output_type": "stream",
          "name": "stdout",
          "text": [
            "accuracy: 0.914\n",
            "f1-score: 0.918\n"
          ]
        }
      ]
    },
    {
      "cell_type": "code",
      "source": [
        "n_classes = len(set(y_train))\n",
        "\n",
        "\n",
        "plt.figure(figsize=(7,7))\n",
        "plt.title(\"XGBoost Confusion Matrix: {} dataset\".format(X.shape))\n",
        "plt.imshow(conf,cmap=\"jet\")\n",
        "plt.xticks(np.arange(n_classes))\n",
        "plt.yticks(np.arange(n_classes))\n",
        "clb = plt.colorbar()\n",
        "clb.ax.set_title('Predictions',fontsize=8)\n",
        "\n",
        "np.savetxt(\"cm_XGB_{}x{}_{}.csv\".format(X.shape[0],X.shape[1],method), conf, delimiter=\",\")\n"
      ],
      "metadata": {
        "id": "F4PWGCdfcDCS",
        "colab": {
          "base_uri": "https://localhost:8080/",
          "height": 600
        },
        "outputId": "40b1bb2c-e09d-4806-a550-71c336d22937"
      },
      "execution_count": null,
      "outputs": [
        {
          "output_type": "display_data",
          "data": {
            "text/plain": [
              "<Figure size 700x700 with 2 Axes>"
            ],
            "image/png": "[encoded data removed]"
          },
          "metadata": {}
        }
      ]
    },
    {
      "cell_type": "code",
      "source": [
        "plt.figure(figsize=(7,7))\n",
        "plt.title(\"XGBoost: {} dataset\".format(X.shape),fontsize=18)\n",
        "plt.plot(cpu_usage,label=\"CPU\")\n",
        "plt.plot(ram_usage,label=\"RAM\")\n",
        "plt.plot(gpu_usage,label=\"GPU\")\n",
        "plt.xlabel(\"Time (s)\",fontsize = 14)\n",
        "plt.xticks(fontsize = 14)\n",
        "plt.ylabel(\"Usage (%)\",fontsize = 14)\n",
        "plt.yticks(fontsize = 14)\n",
        "plt.legend(fontsize = 13)\n",
        "#plt.savefig(\"comp_metrics_{}x{}.png\".format(X.shape[0],X.shape[1]),dpi = 300)"
      ],
      "metadata": {
        "id": "G09rohbKgo0z",
        "colab": {
          "base_uri": "https://localhost:8080/",
          "height": 673
        },
        "outputId": "f16e5181-8b81-46dc-85fe-86ba5b4e724d"
      },
      "execution_count": null,
      "outputs": [
        {
          "output_type": "execute_result",
          "data": {
            "text/plain": [
              "<matplotlib.legend.Legend at 0x79da24c90fd0>"
            ]
          },
          "metadata": {},
          "execution_count": 16
        },
        {
          "output_type": "display_data",
          "data": {
            "text/plain": [
              "<Figure size 700x700 with 1 Axes>"
            ],
            "image/png": "[encoded data removed]"
          },
          "metadata": {}
        }
      ]
    },
    {
      "cell_type": "code",
      "source": [
        "#Storing all usage metrics in a .csv dataset\n",
        "metrics = {\"cpu\":cpu_usage, \"ram\": ram_usage, \"gpu\": gpu_usage, \"acc\": acc, \"f1\": f1, \"time (s)\": len(gpu_usage)}\n",
        "metrics_df = pd.DataFrame(metrics)\n",
        "metrics_df.to_csv(\"comp_metrics_XGB_{}x{}_{}.csv\".format(X.shape[0],X.shape[1],method))"
      ],
      "metadata": {
        "id": "V2Eu5T5Am5Bq"
      },
      "execution_count": null,
      "outputs": []
    }
  ]
}